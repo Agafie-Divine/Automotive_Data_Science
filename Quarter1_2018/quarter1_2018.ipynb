{
 "cells": [
  {
   "cell_type": "code",
   "execution_count": 1,
   "id": "0d10b6dd-b519-4436-bbac-893e0f1b0587",
   "metadata": {},
   "outputs": [],
   "source": [
    "# Import neccessary libraries\n",
    "from urllib.request import urlretrieve\n",
    "import pandas as pd\n",
    "import matplotlib.pyplot as plt\n",
    "%matplotlib inline"
   ]
  },
  {
   "cell_type": "code",
   "execution_count": 3,
   "id": "6a2c3d73-6e60-4b10-9bd8-75577feae30b",
   "metadata": {},
   "outputs": [],
   "source": [
    "# URL containing dataset from the natural bureau of statistics\n",
    "url = 'https://www.nigerianstat.gov.ng/resource/road%20transport%20q1%202018.xlsx'"
   ]
  },
  {
   "cell_type": "code",
   "execution_count": 5,
   "id": "bd3270e8-1a96-4946-b188-f9591346086d",
   "metadata": {},
   "outputs": [
    {
     "data": {
      "text/plain": [
       "('q12018.xlsx', <http.client.HTTPMessage at 0x227b7532db0>)"
      ]
     },
     "execution_count": 5,
     "metadata": {},
     "output_type": "execute_result"
    }
   ],
   "source": [
    "# Retrieve as file'q12018.xlsx'\n",
    "urlretrieve(url, 'q12018.xlsx')"
   ]
  },
  {
   "cell_type": "code",
   "execution_count": 7,
   "id": "ac2d8a2b-34d7-4ecd-b601-7fb8fb5e9e0d",
   "metadata": {},
   "outputs": [],
   "source": [
    "# Load in Excel File\n",
    "q1_2018 = pd.ExcelFile('q12018.xlsx')"
   ]
  },
  {
   "cell_type": "code",
   "execution_count": 8,
   "id": "143ce422-709c-4e03-a777-adca69600c7f",
   "metadata": {},
   "outputs": [
    {
     "name": "stdout",
     "output_type": "stream",
     "text": [
      "['Vehicle Population', 'Number Plate', 'Drivers License', 'RTC', 'Sex injured&killed in RTC', 'Vehicles involved in RTC', 'Cause of RTC']\n"
     ]
    }
   ],
   "source": [
    "# Output sheet names\n",
    "print(q1_2018.sheet_names)"
   ]
  },
  {
   "cell_type": "markdown",
   "id": "76f11996-75fe-4c95-be2e-536abfdea4b8",
   "metadata": {},
   "source": [
    "### National Driver License Production on State Basis (1ST Quarter 2018)\n",
    "* #### State: Name of the Nigerian state where driver’s licenses were produced.\n",
    "* #### No_Issued: Total number of driver’s licenses issued in that state during Q1 2018.\n",
    "* #### Percentage: Percentage share of the state’s production relative to the national total."
   ]
  },
  {
   "cell_type": "code",
   "execution_count": 12,
   "id": "1f68302a-b518-413a-8470-b9d1ecab6c82",
   "metadata": {},
   "outputs": [],
   "source": [
    "driv_lic = (q1_2018.parse('Drivers License', usecols=[1, 2, 3], \n",
    "                         names=['State', 'No_Issued', 'Percentage'], \n",
    "                         skiprows=[0, 39]))"
   ]
  },
  {
   "cell_type": "code",
   "execution_count": 14,
   "id": "97e3d4c0-25ab-4e27-83c6-2a211a7abddb",
   "metadata": {},
   "outputs": [
    {
     "data": {
      "text/html": [
       "<div>\n",
       "<style scoped>\n",
       "    .dataframe tbody tr th:only-of-type {\n",
       "        vertical-align: middle;\n",
       "    }\n",
       "\n",
       "    .dataframe tbody tr th {\n",
       "        vertical-align: top;\n",
       "    }\n",
       "\n",
       "    .dataframe thead th {\n",
       "        text-align: right;\n",
       "    }\n",
       "</style>\n",
       "<table border=\"1\" class=\"dataframe\">\n",
       "  <thead>\n",
       "    <tr style=\"text-align: right;\">\n",
       "      <th></th>\n",
       "      <th>State</th>\n",
       "      <th>No_Issued</th>\n",
       "      <th>Percentage</th>\n",
       "    </tr>\n",
       "  </thead>\n",
       "  <tbody>\n",
       "    <tr>\n",
       "      <th>0</th>\n",
       "      <td>Abia</td>\n",
       "      <td>4991</td>\n",
       "      <td>2.237043</td>\n",
       "    </tr>\n",
       "    <tr>\n",
       "      <th>1</th>\n",
       "      <td>Adamawa</td>\n",
       "      <td>1585</td>\n",
       "      <td>0.710421</td>\n",
       "    </tr>\n",
       "    <tr>\n",
       "      <th>2</th>\n",
       "      <td>Akwa-Ibom</td>\n",
       "      <td>3310</td>\n",
       "      <td>1.483593</td>\n",
       "    </tr>\n",
       "    <tr>\n",
       "      <th>3</th>\n",
       "      <td>Anambra</td>\n",
       "      <td>7709</td>\n",
       "      <td>3.455293</td>\n",
       "    </tr>\n",
       "    <tr>\n",
       "      <th>4</th>\n",
       "      <td>Bauchi</td>\n",
       "      <td>3082</td>\n",
       "      <td>1.381400</td>\n",
       "    </tr>\n",
       "  </tbody>\n",
       "</table>\n",
       "</div>"
      ],
      "text/plain": [
       "       State  No_Issued  Percentage\n",
       "0       Abia       4991    2.237043\n",
       "1    Adamawa       1585    0.710421\n",
       "2  Akwa-Ibom       3310    1.483593\n",
       "3    Anambra       7709    3.455293\n",
       "4     Bauchi       3082    1.381400"
      ]
     },
     "execution_count": 14,
     "metadata": {},
     "output_type": "execute_result"
    }
   ],
   "source": [
    "driv_lic.head()"
   ]
  },
  {
   "cell_type": "code",
   "execution_count": 16,
   "id": "3c0fe042-870b-4094-aba4-33a26961c188",
   "metadata": {},
   "outputs": [
    {
     "data": {
      "text/plain": [
       "State         0\n",
       "No_Issued     0\n",
       "Percentage    0\n",
       "dtype: int64"
      ]
     },
     "execution_count": 16,
     "metadata": {},
     "output_type": "execute_result"
    }
   ],
   "source": [
    "# Check for missing values\n",
    "driv_lic.isna().sum()"
   ]
  },
  {
   "cell_type": "code",
   "execution_count": 18,
   "id": "3b9758c3-378a-4d26-a860-7d1ec0f1ab70",
   "metadata": {},
   "outputs": [
    {
     "data": {
      "text/plain": [
       "count       37.000000\n",
       "mean      6029.918919\n",
       "std       9855.966750\n",
       "min        410.000000\n",
       "25%       1549.000000\n",
       "50%       3152.000000\n",
       "75%       6825.000000\n",
       "max      57205.000000\n",
       "Name: No_Issued, dtype: float64"
      ]
     },
     "execution_count": 18,
     "metadata": {},
     "output_type": "execute_result"
    }
   ],
   "source": [
    "driv_lic.describe()['No_Issued']"
   ]
  },
  {
   "cell_type": "code",
   "execution_count": 20,
   "id": "5de0f199-47d6-4090-b084-aa2a4cf3a4ba",
   "metadata": {},
   "outputs": [],
   "source": [
    "drivlic_sorted = driv_lic.sort_values(by='No_Issued')"
   ]
  },
  {
   "cell_type": "code",
   "execution_count": 22,
   "id": "9bd4f5a3-164d-4f5f-865b-8a848cd37bcd",
   "metadata": {},
   "outputs": [
    {
     "data": {
      "image/png": "[encoded data removed]",
      "text/plain": [
       "<Figure size 800x500 with 1 Axes>"
      ]
     },
     "metadata": {},
     "output_type": "display_data"
    }
   ],
   "source": [
    "# Distribution of license produced per state\n",
    "plt.figure(figsize=(8,5))\n",
    "plt.barh(drivlic_sorted['State'], drivlic_sorted['No_Issued'], color='blue')\n",
    "plt.xlabel('Total Licenses Issued', fontsize=8)\n",
    "plt.ylabel('State', fontsize=8)\n",
    "plt.yticks(fontsize=8)\n",
    "plt.xticks(fontsize=8)\n",
    "plt.title('Distribution of License Production per State')\n",
    "plt.savefig('driv-lic_prod.jpg')\n",
    "plt.show();"
   ]
  },
  {
   "cell_type": "code",
   "execution_count": 24,
   "id": "7cac26e6-18f8-4820-8b96-a5ce2c0b25b1",
   "metadata": {},
   "outputs": [
    {
     "name": "stdout",
     "output_type": "stream",
     "text": [
      "State with highest Drivers License Issued: Lagos\n",
      "State with lowest Drivers License Issued: Kebbi\n"
     ]
    }
   ],
   "source": [
    "max_count = driv_lic['No_Issued'].max()\n",
    "min_count = driv_lic['No_Issued'].min()\n",
    "max_state = driv_lic.loc[driv_lic['No_Issued']==max_count, 'State'].values[0]\n",
    "min_state = driv_lic.loc[driv_lic['No_Issued']==min_count, 'State'].values[0]\n",
    "print(f'State with highest Drivers License Issued: {max_state}')\n",
    "print(f'State with lowest Drivers License Issued: {min_state}')"
   ]
  },
  {
   "cell_type": "markdown",
   "id": "8fa292e2-7357-4f3c-9eb8-52364dfe201c",
   "metadata": {},
   "source": [
    "#### The top ten states by License Issued (Lagos, FCT, Ogun, Oyo, Delta, Rivers, Edo, Kaduna, Anambra, Enugu) are large urban and econmically active states with high vehicle density.\n",
    "\n",
    "#### The least ten states (Kebbi, Ekiti, Zamfara, Taraba, Jigawa, Yobe, Sokoto, Katsina, Cross-river, Kogi) are likely due to lower urbanization, preference for unlicensed driving or weaker infrastructure"
   ]
  },
  {
   "cell_type": "code",
   "execution_count": 27,
   "id": "6a60a313-29f0-4240-a155-16790c1c3005",
   "metadata": {},
   "outputs": [],
   "source": [
    "# Define a mapping of states to zones (From wikipedia)\n",
    "zone_mapping = {\n",
    "    # North Central\n",
    "    \"Benue\": \"North Central\", \"Kogi\": \"North Central\", \"Kwara\": \"North Central\",\n",
    "    \"Nasarawa\": \"North Central\", \"Niger\": \"North Central\", \"Plateau\": \"North Central\",\n",
    "    \"FCT\": \"North Central\",\n",
    "\n",
    "    # North East\n",
    "    \"Adamawa\": \"North East\", \"Bauchi\": \"North East\", \"Borno\": \"North East\",\n",
    "    \"Gombe\": \"North East\", \"Taraba\": \"North East\", \"Yobe\": \"North East\",\n",
    "\n",
    "    # North West\n",
    "    \"Jigawa\": \"North West\", \"Kaduna\": \"North West\", \"Kano\": \"North West\",\n",
    "    \"Katsina\": \"North West\", \"Kebbi\": \"North West\", \"Sokoto\": \"North West\", \"Zamfara\": \"North West\",\n",
    "\n",
    "    # South East\n",
    "    \"Abia\": \"South East\", \"Anambra\": \"South East\", \"Ebonyi\": \"South East\",\n",
    "    \"Enugu\": \"South East\", \"Imo\": \"South East\",\n",
    "\n",
    "    # South South\n",
    "    \"Akwa-Ibom\": \"South South\", \"Bayelsa\": \"South South\", \"Cross-River\": \"South South\",\n",
    "    \"Delta\": \"South South\", \"Edo\": \"South South\", \"Rivers\": \"South South\",\n",
    "\n",
    "    # South West\n",
    "    \"Ekiti\": \"South West\", \"Lagos\": \"South West\", \"Ogun\": \"South West\",\n",
    "    \"Ondo\": \"South West\", \"Osun\": \"South West\", \"Oyo\": \"South West\",\n",
    "}"
   ]
  },
  {
   "cell_type": "code",
   "execution_count": 29,
   "id": "c12f3e08-0971-4750-a299-68e14acfd4ce",
   "metadata": {},
   "outputs": [],
   "source": [
    "# Add column 'Zone'\n",
    "driv_lic['Zone'] = driv_lic['State'].map(zone_mapping)"
   ]
  },
  {
   "cell_type": "code",
   "execution_count": 31,
   "id": "c867a909-ffe1-4af1-b7bc-49001e820480",
   "metadata": {},
   "outputs": [
    {
     "data": {
      "text/html": [
       "<div>\n",
       "<style scoped>\n",
       "    .dataframe tbody tr th:only-of-type {\n",
       "        vertical-align: middle;\n",
       "    }\n",
       "\n",
       "    .dataframe tbody tr th {\n",
       "        vertical-align: top;\n",
       "    }\n",
       "\n",
       "    .dataframe thead th {\n",
       "        text-align: right;\n",
       "    }\n",
       "</style>\n",
       "<table border=\"1\" class=\"dataframe\">\n",
       "  <thead>\n",
       "    <tr style=\"text-align: right;\">\n",
       "      <th></th>\n",
       "      <th>Zone</th>\n",
       "      <th>No_Issued</th>\n",
       "    </tr>\n",
       "  </thead>\n",
       "  <tbody>\n",
       "    <tr>\n",
       "      <th>0</th>\n",
       "      <td>North Central</td>\n",
       "      <td>39150</td>\n",
       "    </tr>\n",
       "    <tr>\n",
       "      <th>1</th>\n",
       "      <td>North East</td>\n",
       "      <td>10222</td>\n",
       "    </tr>\n",
       "    <tr>\n",
       "      <th>2</th>\n",
       "      <td>North West</td>\n",
       "      <td>18634</td>\n",
       "    </tr>\n",
       "    <tr>\n",
       "      <th>3</th>\n",
       "      <td>South East</td>\n",
       "      <td>24500</td>\n",
       "    </tr>\n",
       "    <tr>\n",
       "      <th>4</th>\n",
       "      <td>South South</td>\n",
       "      <td>39312</td>\n",
       "    </tr>\n",
       "    <tr>\n",
       "      <th>5</th>\n",
       "      <td>South West</td>\n",
       "      <td>91289</td>\n",
       "    </tr>\n",
       "  </tbody>\n",
       "</table>\n",
       "</div>"
      ],
      "text/plain": [
       "            Zone  No_Issued\n",
       "0  North Central      39150\n",
       "1     North East      10222\n",
       "2     North West      18634\n",
       "3     South East      24500\n",
       "4    South South      39312\n",
       "5     South West      91289"
      ]
     },
     "execution_count": 31,
     "metadata": {},
     "output_type": "execute_result"
    }
   ],
   "source": [
    "# Aggregate by 'Zone'\n",
    "geo_zones = driv_lic.groupby('Zone')['No_Issued'].sum().reset_index()\n",
    "geo_zones"
   ]
  },
  {
   "cell_type": "code",
   "execution_count": 33,
   "id": "100855d4-95ab-4ddc-b8e5-353457894859",
   "metadata": {},
   "outputs": [
    {
     "data": {
      "image/png": "[encoded data removed]",
      "text/plain": [
       "<Figure size 800x500 with 1 Axes>"
      ]
     },
     "metadata": {},
     "output_type": "display_data"
    }
   ],
   "source": [
    "plt.figure(figsize=(8,5))\n",
    "plt.bar(geo_zones[\"Zone\"], geo_zones[\"No_Issued\"], color=\"skyblue\")\n",
    "plt.xticks(rotation=30, ha=\"right\")\n",
    "plt.ylabel(\"Total Licenses Produced\")\n",
    "plt.title(\"Driver’s Licenses Produced by Geopolitical Zone\")\n",
    "plt.savefig('zone_dist.jpg')\n",
    "plt.show()"
   ]
  },
  {
   "cell_type": "markdown",
   "id": "5ca80509-6186-4292-8afb-18c09737ac86",
   "metadata": {},
   "source": [
    "#### Policy Implication: Efforts to expand driver's license infrastructure should target zones(North East, North West).\n",
    "\n",
    "#### Ecomic correlation: States with higher industrial/commercial activity tend to have higher driver's license numbers."
   ]
  },
  {
   "cell_type": "code",
   "execution_count": 36,
   "id": "2eb8d518-183e-4469-a18c-f45a25b91218",
   "metadata": {},
   "outputs": [],
   "source": [
    "driv_lic.to_csv('drivers_license.csv')"
   ]
  },
  {
   "cell_type": "code",
   "execution_count": null,
   "id": "b441de4c-1f0a-4a2e-be14-2d0de8e89e32",
   "metadata": {},
   "outputs": [],
   "source": []
  }
 ],
 "metadata": {
  "kernelspec": {
   "display_name": "Python 3 (ipykernel)",
   "language": "python",
   "name": "python3"
  },
  "language_info": {
   "codemirror_mode": {
    "name": "ipython",
    "version": 3
   },
   "file_extension": ".py",
   "mimetype": "text/x-python",
   "name": "python",
   "nbconvert_exporter": "python",
   "pygments_lexer": "ipython3",
   "version": "3.12.3"
  }
 },
 "nbformat": 4,
 "nbformat_minor": 5
}
